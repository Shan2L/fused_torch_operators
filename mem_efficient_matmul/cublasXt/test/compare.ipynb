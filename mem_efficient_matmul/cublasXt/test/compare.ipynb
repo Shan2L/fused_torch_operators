{
 "cells": [
  {
   "cell_type": "code",
   "execution_count": 1,
   "metadata": {},
   "outputs": [
    {
     "name": "stdout",
     "output_type": "stream",
     "text": [
      "cpu\n"
     ]
    }
   ],
   "source": [
    "import torch\n",
    "import cublasXt_meffi_mm\n",
    "\n",
    "a = torch.randn(512, 512).float()\n",
    "b = torch.randn(512, 512).float()"
   ]
  },
  {
   "cell_type": "code",
   "execution_count": 8,
   "metadata": {},
   "outputs": [],
   "source": [
    "\n",
    "cpu_result = torch.mm(a, b)\n",
    "cuda_result = torch.mm(a.cuda(), b.cuda()).cpu()\n",
    "cus_result = cublasXt_meffi_mm.forward(a, b, 1, 1, 512)"
   ]
  },
  {
   "cell_type": "code",
   "execution_count": 12,
   "metadata": {},
   "outputs": [
    {
     "name": "stdout",
     "output_type": "stream",
     "text": [
      "mean: 7.331963843171252e-06\n",
      "max: 0.0001373291015625\n",
      "min: 0.0\n"
     ]
    }
   ],
   "source": [
    "print(f\"mean: {torch.mean(torch.abs(cuda_result - cpu_result))}\")\n",
    "print(f\"max: {torch.mean(torch.max(torch.abs(cuda_result - cpu_result)))}\")\n",
    "print(f\"min: {torch.mean(torch.min(torch.abs(cuda_result - cpu_result)))}\")"
   ]
  },
  {
   "cell_type": "code",
   "execution_count": 13,
   "metadata": {},
   "outputs": [
    {
     "name": "stdout",
     "output_type": "stream",
     "text": [
      "mean: 7.317033123399597e-06\n",
      "max: 0.0001373291015625\n",
      "min: 0.0\n"
     ]
    }
   ],
   "source": [
    "print(f\"mean: {torch.mean(torch.abs(cuda_result - cus_result))}\")\n",
    "print(f\"max: {torch.mean(torch.max(torch.abs(cuda_result - cus_result)))}\")\n",
    "print(f\"min: {torch.mean(torch.min(torch.abs(cuda_result - cus_result)))}\")"
   ]
  }
 ],
 "metadata": {
  "kernelspec": {
   "display_name": "Python 3",
   "language": "python",
   "name": "python3"
  },
  "language_info": {
   "codemirror_mode": {
    "name": "ipython",
    "version": 3
   },
   "file_extension": ".py",
   "mimetype": "text/x-python",
   "name": "python",
   "nbconvert_exporter": "python",
   "pygments_lexer": "ipython3",
   "version": "3.10.12"
  }
 },
 "nbformat": 4,
 "nbformat_minor": 2
}
